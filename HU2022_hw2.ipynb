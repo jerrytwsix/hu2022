{
  "cells": [
    {
      "cell_type": "markdown",
      "source": [
        "# Simple Linear Function Fitting\n",
        "\n",
        "Author: [Yi Yang](https://github.com/helloyesterday)&nbsp;&nbsp;&nbsp;&nbsp;Editor: [Mingfu Lv](https://gitee.com/lvmingfu)\n",
        "\n",
        "[![Download Notebook](https://gitee.com/mindspore/docs/raw/r1.6/resource/_static/logo_notebook_en.png)](https://mindspore-website.obs.cn-north-4.myhuaweicloud.com/notebook/r1.6/tutorials/en/mindspore_linear_regression.ipynb)&emsp;&emsp;[![View Source On Gitee](https://gitee.com/mindspore/docs/raw/r1.6/resource/_static/logo_source_en.png)](https://gitee.com/mindspore/docs/blob/r1.6/tutorials/source_en/linear_regression.ipynb)"
      ],
      "metadata": {
        "id": "ZvbJ8l1dth6d"
      },
      "id": "ZvbJ8l1dth6d"
    },
    {
      "cell_type": "markdown",
      "source": [
        "## Overview\n",
        "\n",
        "Regression algorithms usually use a series of properties to predict a value, and the predicted values are consecutive. For example, the price of a house is predicted based on some given feature data of the house, such as area and the number of bedrooms; or future temperature conditions are predicted by using the temperature change data and satellite cloud images in the last week. If the actual price of the house is CNY5 million, and the value predicted through regression analysis is CNY4.99 million, the regression analysis is considered accurate. For machine learning problems, common regression analysis includes linear regression, polynomial regression, and logistic regression. This example describes the linear regression algorithms and how to use MindSpore to perform linear regression AI training.\n",
        "\n",
        "The whole process is as follows:\n",
        "\n",
        "1. Generate datasets.\n",
        "2. Define a training network.\n",
        "3. Define and associate the forward and backward propagation networks.\n",
        "4. Prepare for fitting process visualization.\n",
        "5. Perform training.\n",
        "\n",
        "> This document is applicable to CPU, GPU and Ascend environments. The source code address of this example: <https://gitee.com/mindspore/docs/blob/r1.6/docs/sample_code/linear_regression.py>.\n",
        "\n",
        "## Environment Preparation\n",
        "\n",
        "Complete MindSpore running configuration."
      ],
      "metadata": {
        "id": "ho0oOdBWth6j"
      },
      "id": "ho0oOdBWth6j"
    },
    {
      "cell_type": "code",
      "source": [
        "!pip install mindspore\n",
        "!pip install mindinsight"
      ],
      "metadata": {
        "colab": {
          "base_uri": "https://localhost:8080/"
        },
        "id": "YH_4KCzitykn",
        "outputId": "4205e338-3458-4b37-cec4-574a8d8e12c2"
      },
      "id": "YH_4KCzitykn",
      "execution_count": null,
      "outputs": [
        {
          "output_type": "stream",
          "name": "stdout",
          "text": [
            "Requirement already satisfied: mindspore in /usr/local/lib/python3.7/dist-packages (1.6.1)\n",
            "Requirement already satisfied: pillow>=6.2.0 in /usr/local/lib/python3.7/dist-packages (from mindspore) (7.1.2)\n",
            "Requirement already satisfied: packaging>=20.0 in /usr/local/lib/python3.7/dist-packages (from mindspore) (21.3)\n",
            "Requirement already satisfied: asttokens>=2.0.0 in /usr/local/lib/python3.7/dist-packages (from mindspore) (2.0.5)\n",
            "Requirement already satisfied: protobuf>=3.13.0 in /usr/local/lib/python3.7/dist-packages (from mindspore) (3.17.3)\n",
            "Requirement already satisfied: scipy>=1.5.2 in /usr/local/lib/python3.7/dist-packages (from mindspore) (1.7.3)\n",
            "Requirement already satisfied: numpy>=1.17.0 in /usr/local/lib/python3.7/dist-packages (from mindspore) (1.21.6)\n",
            "Requirement already satisfied: psutil>=5.6.1 in /usr/local/lib/python3.7/dist-packages (from mindspore) (5.9.0)\n",
            "Requirement already satisfied: six in /usr/local/lib/python3.7/dist-packages (from asttokens>=2.0.0->mindspore) (1.15.0)\n",
            "Requirement already satisfied: pyparsing!=3.0.5,>=2.0.2 in /usr/local/lib/python3.7/dist-packages (from packaging>=20.0->mindspore) (3.0.8)\n",
            "Requirement already satisfied: mindinsight in /usr/local/lib/python3.7/dist-packages (1.6.1)\n",
            "Requirement already satisfied: Werkzeug>=1.0.0 in /usr/local/lib/python3.7/dist-packages (from mindinsight) (1.0.1)\n",
            "Requirement already satisfied: Jinja2>=2.10.1 in /usr/local/lib/python3.7/dist-packages (from mindinsight) (2.11.3)\n",
            "Requirement already satisfied: pandas>=1.0.4 in /usr/local/lib/python3.7/dist-packages (from mindinsight) (1.3.5)\n",
            "Requirement already satisfied: marshmallow>=3.10.0 in /usr/local/lib/python3.7/dist-packages (from mindinsight) (3.15.0)\n",
            "Requirement already satisfied: Flask>=1.1.1 in /usr/local/lib/python3.7/dist-packages (from mindinsight) (1.1.4)\n",
            "Requirement already satisfied: treelib>=1.6.1 in /usr/local/lib/python3.7/dist-packages (from mindinsight) (1.6.1)\n",
            "Requirement already satisfied: gunicorn>=20.0.4 in /usr/local/lib/python3.7/dist-packages (from mindinsight) (20.1.0)\n",
            "Requirement already satisfied: psutil>=5.7.0 in /usr/local/lib/python3.7/dist-packages (from mindinsight) (5.9.0)\n",
            "Requirement already satisfied: protobuf>=3.13.0 in /usr/local/lib/python3.7/dist-packages (from mindinsight) (3.17.3)\n",
            "Requirement already satisfied: XlsxWriter>=1.3.2 in /usr/local/lib/python3.7/dist-packages (from mindinsight) (3.0.3)\n",
            "Requirement already satisfied: itsdangerous>=1.1.0 in /usr/local/lib/python3.7/dist-packages (from mindinsight) (1.1.0)\n",
            "Requirement already satisfied: scikit-learn>=0.23.1 in /usr/local/lib/python3.7/dist-packages (from mindinsight) (1.0.2)\n",
            "Requirement already satisfied: yapf>=0.30.0 in /usr/local/lib/python3.7/dist-packages (from mindinsight) (0.32.0)\n",
            "Requirement already satisfied: google-pasta>=0.1.8 in /usr/local/lib/python3.7/dist-packages (from mindinsight) (0.2.0)\n",
            "Requirement already satisfied: scipy>=1.5.2 in /usr/local/lib/python3.7/dist-packages (from mindinsight) (1.7.3)\n",
            "Requirement already satisfied: pyyaml>=5.3.1 in /usr/local/lib/python3.7/dist-packages (from mindinsight) (6.0)\n",
            "Requirement already satisfied: MarkupSafe>=1.1.1 in /usr/local/lib/python3.7/dist-packages (from mindinsight) (2.0.1)\n",
            "Requirement already satisfied: pillow>=6.2.0 in /usr/local/lib/python3.7/dist-packages (from mindinsight) (7.1.2)\n",
            "Requirement already satisfied: numpy>=1.17.0 in /usr/local/lib/python3.7/dist-packages (from mindinsight) (1.21.6)\n",
            "Requirement already satisfied: grpcio>=1.36.1 in /usr/local/lib/python3.7/dist-packages (from mindinsight) (1.44.0)\n",
            "Requirement already satisfied: click<8.0,>=5.1 in /usr/local/lib/python3.7/dist-packages (from Flask>=1.1.1->mindinsight) (7.1.2)\n",
            "Requirement already satisfied: six in /usr/local/lib/python3.7/dist-packages (from google-pasta>=0.1.8->mindinsight) (1.15.0)\n",
            "Requirement already satisfied: setuptools>=3.0 in /usr/local/lib/python3.7/dist-packages (from gunicorn>=20.0.4->mindinsight) (57.4.0)\n",
            "Requirement already satisfied: packaging in /usr/local/lib/python3.7/dist-packages (from marshmallow>=3.10.0->mindinsight) (21.3)\n",
            "Requirement already satisfied: python-dateutil>=2.7.3 in /usr/local/lib/python3.7/dist-packages (from pandas>=1.0.4->mindinsight) (2.8.2)\n",
            "Requirement already satisfied: pytz>=2017.3 in /usr/local/lib/python3.7/dist-packages (from pandas>=1.0.4->mindinsight) (2022.1)\n",
            "Requirement already satisfied: threadpoolctl>=2.0.0 in /usr/local/lib/python3.7/dist-packages (from scikit-learn>=0.23.1->mindinsight) (3.1.0)\n",
            "Requirement already satisfied: joblib>=0.11 in /usr/local/lib/python3.7/dist-packages (from scikit-learn>=0.23.1->mindinsight) (1.1.0)\n",
            "Requirement already satisfied: future in /usr/local/lib/python3.7/dist-packages (from treelib>=1.6.1->mindinsight) (0.16.0)\n",
            "Requirement already satisfied: pyparsing!=3.0.5,>=2.0.2 in /usr/local/lib/python3.7/dist-packages (from packaging->marshmallow>=3.10.0->mindinsight) (3.0.8)\n"
          ]
        }
      ]
    },
    {
      "cell_type": "code",
      "execution_count": null,
      "source": [
        "from mindspore import context\n",
        "\n",
        "context.set_context(mode=context.GRAPH_MODE, device_target=\"CPU\")"
      ],
      "outputs": [],
      "metadata": {
        "id": "jKYlD_xGth6l"
      },
      "id": "jKYlD_xGth6l"
    },
    {
      "cell_type": "markdown",
      "source": [
        "`GRAPH_MODE`: graph mode.\n",
        "\n",
        "`device_target`: sets the MindSpore training hardware to CPU.\n",
        "\n",
        "> Third-party support package: `matplotlib` and `IPython`. If this package is not installed, run the `pip install matplotlib IPython` command to install it first.\n",
        "\n",
        "## Generating Datasets\n",
        "\n",
        "### Defining the Dataset Generation Function\n",
        "\n",
        "`get_data` is used to generate training and test datasets. Since linear data is fitted, the required training datasets should be randomly distributed around the objective function. Assume that the objective function to be fitted is $f(x)=2x+3$. $f(x)=2x+3+noise$ is used to generate training datasets, and `noise` is a random value that complies with standard normal distribution rules."
      ],
      "metadata": {
        "id": "pH68Ribkth6m"
      },
      "id": "pH68Ribkth6m"
    },
    {
      "cell_type": "code",
      "execution_count": null,
      "source": [
        "import numpy as np\n",
        "\n",
        "def get_data(num, w=2.0, b=3.0):\n",
        "    for _ in range(num):\n",
        "        x = np.random.uniform(-10.0, 10.0)\n",
        "        noise = np.random.normal(0, 1)\n",
        "        y = x * w + b + noise\n",
        "        yield np.array([x]).astype(np.float32), np.array([y]).astype(np.float32)"
      ],
      "outputs": [],
      "metadata": {
        "id": "337qE8H3th6o"
      },
      "id": "337qE8H3th6o"
    },
    {
      "cell_type": "markdown",
      "source": [
        "Use `get_data` to generate 50 groups of test data and visualize them."
      ],
      "metadata": {
        "id": "DKmutnH7th6o"
      },
      "id": "DKmutnH7th6o"
    },
    {
      "cell_type": "code",
      "execution_count": null,
      "source": [
        "import matplotlib.pyplot as plt\n",
        "\n",
        "eval_data = list(get_data(50))\n",
        "x_target_label = np.array([-10, 10, 0.1])\n",
        "y_target_label = x_target_label * 2 + 3\n",
        "x_eval_label, y_eval_label = zip(*eval_data)\n",
        "\n",
        "plt.scatter(x_eval_label, y_eval_label, color=\"red\", s=5)\n",
        "plt.plot(x_target_label, y_target_label, color=\"green\")\n",
        "plt.title(\"Eval data\")\n",
        "plt.show()"
      ],
      "outputs": [
        {
          "output_type": "display_data",
          "data": {
            "text/plain": [
              "<Figure size 432x288 with 1 Axes>"
            ],
            "image/png": "[encoded data removed]"
          },
          "metadata": {
            "needs_background": "light"
          }
        }
      ],
      "metadata": {
        "colab": {
          "base_uri": "https://localhost:8080/",
          "height": 281
        },
        "id": "A2Iq7qWLth6p",
        "outputId": "2ce5aa39-806f-406b-a3e8-4c844b36f709"
      },
      "id": "A2Iq7qWLth6p"
    },
    {
      "cell_type": "markdown",
      "source": [
        "In the preceding figure, the green line indicates the objective function, and the red points indicate the verification data `eval_data`.\n",
        "\n",
        "### Defining the Data Argumentation Function\n",
        "\n",
        "Use the MindSpore data conversion function `GeneratorDataset` to convert the data type to that suitable for MindSpore training, and then use `batch` and `repeat` to perform data argumentation. The operation is described as follows:\n",
        "\n",
        "- `ds.GeneratorDataset`: converts the generated data into a MindSpore dataset and saves the x and y values of the generated data to arrays of `data` and `label`.\n",
        "- `batch`: combines `batch_size` pieces of data into a batch.\n",
        "- `repeat`: multiplies the number of datasets."
      ],
      "metadata": {
        "id": "rWJbw0u7th6r"
      },
      "id": "rWJbw0u7th6r"
    },
    {
      "cell_type": "code",
      "execution_count": null,
      "source": [
        "from mindspore import dataset as ds\n",
        "\n",
        "def create_dataset(num_data, batch_size=16, repeat_size=1):\n",
        "    input_data = ds.GeneratorDataset(list(get_data(num_data)), column_names=['data', 'label'])\n",
        "    input_data = input_data.batch(batch_size)\n",
        "    input_data = input_data.repeat(repeat_size)\n",
        "    return input_data"
      ],
      "outputs": [],
      "metadata": {
        "id": "7nThDumTth6s"
      },
      "id": "7nThDumTth6s"
    },
    {
      "cell_type": "markdown",
      "source": [
        "Use the dataset argumentation function to generate training data and view the training data format."
      ],
      "metadata": {
        "id": "Ao-0F6-5th6t"
      },
      "id": "Ao-0F6-5th6t"
    },
    {
      "cell_type": "code",
      "execution_count": null,
      "source": [
        "data_number = 1600\n",
        "batch_number = 16\n",
        "repeat_number = 1\n",
        "\n",
        "ds_train = create_dataset(data_number, batch_size=batch_number, repeat_size=repeat_number)\n",
        "print(\"The dataset size of ds_train:\", ds_train.get_dataset_size())\n",
        "dict_datasets = next(ds_train.create_dict_iterator())\n",
        "\n",
        "print(dict_datasets.keys())\n",
        "print(\"The x label value shape:\", dict_datasets[\"data\"].shape)\n",
        "print(\"The y label value shape:\", dict_datasets[\"label\"].shape)"
      ],
      "outputs": [
        {
          "output_type": "stream",
          "name": "stdout",
          "text": [
            "The dataset size of ds_train: 100\n",
            "dict_keys(['data', 'label'])\n",
            "The x label value shape: (16, 1)\n",
            "The y label value shape: (16, 1)\n"
          ]
        }
      ],
      "metadata": {
        "colab": {
          "base_uri": "https://localhost:8080/"
        },
        "id": "-vpu1s3Dth6u",
        "outputId": "3f0525e6-5aef-48f6-bcfb-e0e9f407ba47"
      },
      "id": "-vpu1s3Dth6u"
    },
    {
      "cell_type": "markdown",
      "source": [
        "Use the defined `create_dataset` to perform argumentation on the generated 1600 data records and set them into 100 datasets with the shape of 16 x 1.\n",
        "\n",
        "## Defining the Training Network\n",
        "\n",
        "In MindSpore, use `nn.Dense` to generate a linear function model of single data input and single data output.\n",
        "\n",
        "$$f(x)=wx+b\\tag{1}$$\n",
        "\n",
        "Use the Normal operator to randomly initialize the weights $w$ and $b$."
      ],
      "metadata": {
        "id": "FQWx5wa2th6v"
      },
      "id": "FQWx5wa2th6v"
    },
    {
      "cell_type": "code",
      "execution_count": null,
      "source": [
        "from mindspore.common.initializer import Normal\n",
        "from mindspore import nn\n",
        "from mindspore.ops import TensorSummary\n",
        "\n",
        "class LinearNet(nn.Cell):\n",
        "    def __init__(self):\n",
        "        super(LinearNet, self).__init__()\n",
        "        self.fc = nn.Dense(1, 1, Normal(0.02), Normal(0.02))\n",
        "\n",
        "    def construct(self, x):\n",
        "        x = self.fc(x)\n",
        "        return x"
      ],
      "outputs": [],
      "metadata": {
        "id": "vmaS_Qk-th6w"
      },
      "id": "vmaS_Qk-th6w"
    },
    {
      "cell_type": "markdown",
      "source": [
        "Call the network to view the initialized model parameters."
      ],
      "metadata": {
        "id": "OzNRpU3Zth6w"
      },
      "id": "OzNRpU3Zth6w"
    },
    {
      "cell_type": "code",
      "execution_count": null,
      "source": [
        "net = LinearNet()\n",
        "model_params = net.trainable_params()\n",
        "for param in model_params:\n",
        "    print(param, param.asnumpy())"
      ],
      "outputs": [
        {
          "output_type": "stream",
          "name": "stdout",
          "text": [
            "Parameter (name=fc.weight, shape=(1, 1), dtype=Float32, requires_grad=True) [[0.0587927]]\n",
            "Parameter (name=fc.bias, shape=(1,), dtype=Float32, requires_grad=True) [0.00926103]\n"
          ]
        }
      ],
      "metadata": {
        "colab": {
          "base_uri": "https://localhost:8080/"
        },
        "id": "x5YLNFKRth6x",
        "outputId": "1b462448-69e4-401a-f4ac-dacf1522f351"
      },
      "id": "x5YLNFKRth6x"
    },
    {
      "cell_type": "markdown",
      "source": [
        "After initializing the network model, visualize the initialized network function and training dataset to understand the model function before fitting."
      ],
      "metadata": {
        "id": "v3gutzycth6x"
      },
      "id": "v3gutzycth6x"
    },
    {
      "cell_type": "code",
      "execution_count": null,
      "source": [
        "from mindspore import Tensor\n",
        "\n",
        "x_model_label = np.array([-10, 10, 0.1])\n",
        "y_model_label = (x_model_label * Tensor(model_params[0]).asnumpy()[0][0] +\n",
        "                 Tensor(model_params[1]).asnumpy()[0])\n",
        "plt.axis([-10, 10, -20, 25])\n",
        "plt.scatter(x_eval_label, y_eval_label, color=\"red\", s=5)\n",
        "plt.plot(x_model_label, y_model_label, color=\"blue\")\n",
        "plt.plot(x_target_label, y_target_label, color=\"green\")\n",
        "plt.show()"
      ],
      "outputs": [
        {
          "output_type": "display_data",
          "data": {
            "text/plain": [
              "<Figure size 432x288 with 1 Axes>"
            ],
            "image/png": "[encoded data removed]"
          },
          "metadata": {
            "needs_background": "light"
          }
        }
      ],
      "metadata": {
        "colab": {
          "base_uri": "https://localhost:8080/",
          "height": 269
        },
        "id": "J64dnXsoth6y",
        "outputId": "8b8392b1-82f3-43f2-faed-b1c1ca3c13e3"
      },
      "id": "J64dnXsoth6y"
    },
    {
      "cell_type": "markdown",
      "source": [
        "As shown in the preceding figure, the initialized model function in blue differs greatly from the objective function in green.\n",
        "\n",
        "## Defining and Associating the Forward and Backward Propagation Networks\n",
        "\n",
        "Define the loss function of the model. The mean squared error (MSE) method is used to determine the fitting effect. The smaller the MSE value difference, the better the fitting effect. The loss function formula is as follows:\n",
        "\n",
        "$$J(w)=\\frac{1}{2m}\\sum_{i=1}^m(h(x_i)-y^{(i)})^2\\tag{2}$$\n",
        "\n",
        "Assuming that the $i$th data record in the training data is $(x_i,y^{(i)})$, parameters in formula 2 are described as follows:\n",
        "\n",
        "- $J(w)$ specifies the loss value.\n",
        "\n",
        "- $m$ specifies the amount of sample data. In this example, the value of $m$ is `batch_number`.\n",
        "\n",
        "- $h(x_i)$ is a predicted value obtained after the $x_i$ value of the $i$th data record is substituted into the model network (formula 1).\n",
        "\n",
        "- $y^{(i)}$ is the $y^{(i)}$ value (label value) of the $i$th data record.\n",
        "\n",
        "### Defining the Forward Propagation Network\n",
        "\n",
        "A forward propagation network consists of two parts:\n",
        "\n",
        "1. Bring parameters into the model network to obtain the predicted value.\n",
        "2. Use the predicted value and training data to compute the loss value.\n",
        "\n",
        "The following method is used in MindSpore:"
      ],
      "metadata": {
        "id": "5ZGHqiPSth6y"
      },
      "id": "5ZGHqiPSth6y"
    },
    {
      "cell_type": "code",
      "execution_count": null,
      "source": [
        "net = LinearNet()\n",
        "net_loss = nn.loss.MSELoss()"
      ],
      "outputs": [],
      "metadata": {
        "id": "aen4LLoDth6z"
      },
      "id": "aen4LLoDth6z"
    },
    {
      "cell_type": "markdown",
      "source": [
        "### Defining the Backward Propagation Network\n",
        "\n",
        "The objective of the backward propagation network is to continuously change the weight value to obtain the minimum loss value. Generally, the weight update formula is used in the linear network:\n",
        "\n",
        "$$w_{t}=w_{t-1}-\\alpha\\frac{\\partial{J(w_{t-1})}}{\\partial{w}}\\tag{3}$$\n",
        "\n",
        "Parameters in formula 3 are described as follows:\n",
        "\n",
        "- $w_{t}$ indicates the weight after training steps.\n",
        "- $w_{t-1}$ indicates the weight before training steps.\n",
        "- $\\alpha$ indicates the learning rate.\n",
        "- $\\frac{\\partial{J(w_{t-1}\\ )}}{\\partial{w}}$ is the differentiation of the loss function to the weight $w_{t-1}$.\n",
        "\n",
        "After all weight values in the function are updated, transfer the values to the model function. This process is the backward propagation. To implement this process, the optimizer function in MindSpore is required."
      ],
      "metadata": {
        "id": "AXiaCGJOth6z"
      },
      "id": "AXiaCGJOth6z"
    },
    {
      "cell_type": "code",
      "execution_count": null,
      "source": [
        "opt = nn.Momentum(net.trainable_params(), learning_rate=0.005, momentum=0.9)"
      ],
      "outputs": [],
      "metadata": {
        "id": "Wgeq_Hfath60"
      },
      "id": "Wgeq_Hfath60"
    },
    {
      "cell_type": "markdown",
      "source": [
        "### Associating the Forward and Backward Propagation Networks\n",
        "\n",
        "After forward propagation and backward propagation are defined, call the `Model` function in MindSpore to associate the previously defined networks, loss functions, and optimizer function to form a complete computing network."
      ],
      "metadata": {
        "id": "w5EcxBjIth60"
      },
      "id": "w5EcxBjIth60"
    },
    {
      "cell_type": "code",
      "execution_count": null,
      "source": [
        "from mindspore import Model\n",
        "\n",
        "model = Model(net, net_loss, opt)"
      ],
      "outputs": [],
      "metadata": {
        "id": "0Kfb-8nzth60"
      },
      "id": "0Kfb-8nzth60"
    },
    {
      "cell_type": "markdown",
      "source": [
        "## Preparation for Fitting Process Visualization\n",
        "\n",
        "### Defining the Visualization Function\n",
        "\n",
        "To make the entire training process easier to understand, the test data, objective function, and model network of the training process need to be visualized. The following defines a visualization function which is called after each training step to display a fitting process of the model network."
      ],
      "metadata": {
        "id": "N_9Bvtz6th61"
      },
      "id": "N_9Bvtz6th61"
    },
    {
      "cell_type": "code",
      "execution_count": null,
      "source": [
        "import matplotlib.pyplot as plt\n",
        "import time\n",
        "\n",
        "def plot_model_and_datasets(net, eval_data):\n",
        "    weight = net.trainable_params()[0]\n",
        "    bias = net.trainable_params()[1]\n",
        "    x = np.arange(-10, 10, 0.1)\n",
        "    y = x * Tensor(weight).asnumpy()[0][0] + Tensor(bias).asnumpy()[0]\n",
        "    x1, y1 = zip(*eval_data)\n",
        "    x_target = x\n",
        "    y_target = x_target * 2 + 3\n",
        "\n",
        "    plt.axis([-11, 11, -20, 25])\n",
        "    plt.scatter(x1, y1, color=\"red\", s=5)\n",
        "    plt.plot(x, y, color=\"blue\")\n",
        "    plt.plot(x_target, y_target, color=\"green\")\n",
        "    plt.show()\n",
        "    time.sleep(0.2)"
      ],
      "outputs": [],
      "metadata": {
        "id": "OsGQqzI9th61"
      },
      "id": "OsGQqzI9th61"
    },
    {
      "cell_type": "markdown",
      "source": [
        "### Defining the Callback Function\n",
        "\n",
        "MindSpore provides tools to customize the model training process. The following calls the visualization function in `step_end` to display the fitting process. For more information, see [Customized Debugging Information](https://www.mindspore.cn/docs/programming_guide/en/r1.6/custom_debugging_info.html#callback).\n",
        "\n",
        "- `display.clear_output`：Clear the printed content to achieve dynamic fitting effect."
      ],
      "metadata": {
        "id": "OWJQgUEYth62"
      },
      "id": "OWJQgUEYth62"
    },
    {
      "cell_type": "code",
      "execution_count": null,
      "source": [
        "from IPython import display\n",
        "from mindspore.train.callback import Callback\n",
        "\n",
        "class ImageShowCallback(Callback):\n",
        "    def __init__(self, net, eval_data):\n",
        "        self.net = net\n",
        "        self.eval_data = eval_data\n",
        "\n",
        "    def step_end(self, run_context):\n",
        "        plot_model_and_datasets(self.net, self.eval_data)\n",
        "        display.clear_output(wait=True)"
      ],
      "outputs": [],
      "metadata": {
        "id": "Wz_9uuq7th62"
      },
      "id": "Wz_9uuq7th62"
    },
    {
      "cell_type": "markdown",
      "source": [
        "## Performing Training\n",
        "\n",
        "After the preceding process is complete, use the training parameter `ds_train` to train the model. In this example, `model.train` is called. The parameters are described as follows:\n",
        "\n",
        "- `epoch`: Number of times that the entire dataset is trained.\n",
        "- `ds_train`: Training dataset.\n",
        "- `callbacks`: Required callback function during training.\n",
        "- `dataset_sink_mode`: Dataset offload mode, which supports the Ascend and GPU computing platforms. In this example, this parameter is set to False for the CPU computing platform."
      ],
      "metadata": {
        "id": "uw8SkUXUth63"
      },
      "id": "uw8SkUXUth63"
    },
    {
      "cell_type": "code",
      "execution_count": null,
      "source": [
        "from mindspore.train.callback import SummaryCollector\n",
        "from mindspore.profiler import Profiler\n",
        "profiler = Profiler(output_path = './summary_dir/profiler_data')\n",
        "\n",
        "epoch = 1\n",
        "imageshow_cb = ImageShowCallback(net, eval_data)\n",
        "summary_collector = SummaryCollector(summary_dir='./summary_dir', collect_freq=1)\n",
        "model.train(epoch, ds_train, callbacks=[imageshow_cb, summary_collector], dataset_sink_mode=False)\n",
        "\n",
        "profiler.analyse()\n",
        "\n",
        "plot_model_and_datasets(net, eval_data)\n",
        "for param in net.trainable_params():\n",
        "    print(param, param.asnumpy())"
      ],
      "outputs": [
        {
          "output_type": "display_data",
          "data": {
            "text/plain": [
              "<Figure size 432x288 with 1 Axes>"
            ],
            "image/png": "[encoded data removed]"
          },
          "metadata": {
            "needs_background": "light"
          }
        },
        {
          "output_type": "stream",
          "name": "stdout",
          "text": [
            "Parameter (name=fc.weight, shape=(1, 1), dtype=Float32, requires_grad=True) [[1.9970227]]\n",
            "Parameter (name=fc.bias, shape=(1,), dtype=Float32, requires_grad=True) [3.0158062]\n"
          ]
        }
      ],
      "metadata": {
        "colab": {
          "base_uri": "https://localhost:8080/",
          "height": 304
        },
        "id": "jbNIWCYQth63",
        "outputId": "3cce6693-83e2-4f9b-dd90-1f65c2a79d7f"
      },
      "id": "jbNIWCYQth63"
    },
    {
      "cell_type": "code",
      "source": [
        "from google.colab import drive\n",
        "drive.mount('/content/drive')"
      ],
      "metadata": {
        "colab": {
          "base_uri": "https://localhost:8080/"
        },
        "id": "AWpkOyLj36w8",
        "outputId": "19246a6c-122e-498f-fff2-5d7130c4ac8e"
      },
      "id": "AWpkOyLj36w8",
      "execution_count": null,
      "outputs": [
        {
          "output_type": "stream",
          "name": "stdout",
          "text": [
            "Mounted at /content/drive\n"
          ]
        }
      ]
    },
    {
      "cell_type": "markdown",
      "source": [
        "After the training is complete, the weight parameters of the final model are printed. The value of weight is close to 2.0 and the value of bias is close to 3.0. As a result, the model training meets the expectation.\n",
        "\n",
        "## Summary\n",
        "\n",
        "We have learned the principles of the linear fitting algorithm, defined the corresponding algorithms in the MindSpore framework, understood the training process of such linear fitting models in MindSpore, and finally fitted a model function close to the objective function. In addition, you can adjust the dataset generation interval from (-10,10) to (-100,100) to check whether the weight values are closer to those of the objective function; adjust the learning rate to check whether the fitting efficiency changes; or explore how to use MindSpore to fit quadratic functions, such as $f(x)=ax^2+bx+c$, or higher-order functions."
      ],
      "metadata": {
        "id": "7PG9eJn5th64"
      },
      "id": "7PG9eJn5th64"
    }
  ],
  "metadata": {
    "kernelspec": {
      "display_name": "MindSpore",
      "language": "python",
      "name": "mindspore"
    },
    "language_info": {
      "codemirror_mode": {
        "name": "ipython",
        "version": 3
      },
      "file_extension": ".py",
      "mimetype": "text/x-python",
      "name": "python",
      "nbconvert_exporter": "python",
      "pygments_lexer": "ipython3",
      "version": "3.7.5"
    },
    "colab": {
      "name": "mindspore_linear_regression.ipynb",
      "provenance": []
    }
  },
  "nbformat": 4,
  "nbformat_minor": 5
}
