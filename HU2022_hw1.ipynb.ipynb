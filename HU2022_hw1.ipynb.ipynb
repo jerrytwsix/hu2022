{
  "cells": [
    {
      "cell_type": "code",
      "execution_count": 3,
      "metadata": {
        "colab": {
          "base_uri": "https://localhost:8080/"
        },
        "id": "8CdKVppfp5L5",
        "outputId": "2ed3b35f-698f-45f8-bfd4-73e49b01f242"
      },
      "outputs": [
        {
          "name": "stderr",
          "output_type": "stream",
          "text": [
            "/usr/local/lib/python3.7/dist-packages/urllib3/connectionpool.py:847: InsecureRequestWarning: Unverified HTTPS request is being made. Adding certificate verification is strongly advised. See: https://urllib3.readthedocs.io/en/latest/advanced-usage.html#ssl-warnings\n",
            "  InsecureRequestWarning)\n",
            "/usr/local/lib/python3.7/dist-packages/urllib3/connectionpool.py:847: InsecureRequestWarning: Unverified HTTPS request is being made. Adding certificate verification is strongly advised. See: https://urllib3.readthedocs.io/en/latest/advanced-usage.html#ssl-warnings\n",
            "  InsecureRequestWarning)\n",
            "/usr/local/lib/python3.7/dist-packages/urllib3/connectionpool.py:847: InsecureRequestWarning: Unverified HTTPS request is being made. Adding certificate verification is strongly advised. See: https://urllib3.readthedocs.io/en/latest/advanced-usage.html#ssl-warnings\n",
            "  InsecureRequestWarning)\n",
            "/usr/local/lib/python3.7/dist-packages/urllib3/connectionpool.py:847: InsecureRequestWarning: Unverified HTTPS request is being made. Adding certificate verification is strongly advised. See: https://urllib3.readthedocs.io/en/latest/advanced-usage.html#ssl-warnings\n",
            "  InsecureRequestWarning)\n"
          ]
        }
      ],
      "source": [
        "import os\n",
        "import requests\n",
        "\n",
        "def download_dataset(dataset_url, path):\n",
        "    filename = dataset_url.split(\"/\")[-1]\n",
        "    save_path = os.path.join(path, filename)\n",
        "    if os.path.exists(save_path):\n",
        "        return\n",
        "    if not os.path.exists(path):\n",
        "        os.makedirs(path)\n",
        "    res = requests.get(dataset_url, stream=True, verify=False)\n",
        "    with open(save_path, \"wb\") as f:\n",
        "        for chunk in res.iter_content(chunk_size=512):\n",
        "            if chunk:\n",
        "                f.write(chunk)\n",
        "\n",
        "train_path = \"datasets/MNIST_Data/train\"\n",
        "test_path = \"datasets/MNIST_Data/test\"\n",
        "\n",
        "download_dataset(\"https://mindspore-website.obs.myhuaweicloud.com/notebook/datasets/mnist/train-labels-idx1-ubyte\", train_path)\n",
        "download_dataset(\"https://mindspore-website.obs.myhuaweicloud.com/notebook/datasets/mnist/train-images-idx3-ubyte\", train_path)\n",
        "download_dataset(\"https://mindspore-website.obs.myhuaweicloud.com/notebook/datasets/mnist/t10k-labels-idx1-ubyte\", test_path)\n",
        "download_dataset(\"https://mindspore-website.obs.myhuaweicloud.com/notebook/datasets/mnist/t10k-images-idx3-ubyte\", test_path)\n"
      ]
    },
    {
      "cell_type": "code",
      "execution_count": 4,
      "metadata": {
        "id": "Lms1BkCNp58z"
      },
      "outputs": [],
      "source": [
        "import mindspore.dataset as ds\n",
        "import mindspore.dataset.transforms.c_transforms as C\n",
        "import mindspore.dataset.vision.c_transforms as CV\n",
        "from mindspore.dataset.vision import Inter\n",
        "from mindspore import dtype as mstype"
      ]
    },
    {
      "cell_type": "code",
      "execution_count": 5,
      "metadata": {
        "id": "XHpmJXkxqvmi"
      },
      "outputs": [],
      "source": [
        "def create_dataset(data_path, batch_size=32, repeat_size=1,\n",
        "                   num_parallel_workers=1):\n",
        "    # Define the dataset.\n",
        "    mnist_ds = ds.MnistDataset(data_path)\n",
        "    resize_height, resize_width = 32, 32\n",
        "    rescale = 1.0 / 255.0\n",
        "    shift = 0.0\n",
        "    rescale_nml = 1 / 0.3081\n",
        "    shift_nml = -1 * 0.1307 / 0.3081\n",
        "\n",
        "    # Define the mapping to be operated.\n",
        "    resize_op = CV.Resize((resize_height, resize_width), interpolation=Inter.LINEAR)\n",
        "    rescale_nml_op = CV.Rescale(rescale_nml, shift_nml)\n",
        "    rescale_op = CV.Rescale(rescale, shift)\n",
        "    hwc2chw_op = CV.HWC2CHW()\n",
        "    type_cast_op = C.TypeCast(mstype.int32)\n",
        "\n",
        "    # Use the map function to apply data operations to the dataset.\n",
        "    mnist_ds = mnist_ds.map(operations=type_cast_op, input_columns=\"label\", num_parallel_workers=num_parallel_workers)\n",
        "    mnist_ds = mnist_ds.map(operations=[resize_op, rescale_op, rescale_nml_op, hwc2chw_op], input_columns=\"image\", num_parallel_workers=num_parallel_workers)\n",
        "\n",
        "\n",
        "    # Perform shuffle, batch and repeat operations.\n",
        "    buffer_size = 10000\n",
        "    mnist_ds = mnist_ds.shuffle(buffer_size=buffer_size)\n",
        "    mnist_ds = mnist_ds.batch(batch_size, drop_remainder=True)\n",
        "    mnist_ds = mnist_ds.repeat(count=repeat_size)\n",
        "\n",
        "    return mnist_ds"
      ]
    },
    {
      "cell_type": "code",
      "execution_count": 6,
      "metadata": {
        "id": "J-llwHmeqvtE"
      },
      "outputs": [],
      "source": [
        "import mindspore.nn as nn\n",
        "from mindspore.common.initializer import Normal\n",
        "from mindspore.ops import ImageSummary, TensorSummary\n",
        "class LeNet5(nn.Cell):\n",
        "    \"\"\"\n",
        "    Lenet network structure\n",
        "    \"\"\"\n",
        "    def __init__(self, num_class=10, num_channel=1):\n",
        "        super(LeNet5, self).__init__()\n",
        "        # Define the required operation.\n",
        "        self.conv1 = nn.Conv2d(num_channel, 6, 5, pad_mode='valid')\n",
        "        self.conv2 = nn.Conv2d(6, 16, 5, pad_mode='valid')\n",
        "        self.fc1 = nn.Dense(16 * 5 * 5, 120, weight_init=Normal(0.02))\n",
        "        self.fc2 = nn.Dense(120, 84, weight_init=Normal(0.02))\n",
        "        self.fc3 = nn.Dense(84, num_class, weight_init=Normal(0.02))\n",
        "        self.relu = nn.ReLU()\n",
        "        self.max_pool2d = nn.MaxPool2d(kernel_size=2, stride=2)\n",
        "        self.flatten = nn.Flatten()\n",
        "\n",
        "        self.image_summary = ImageSummary()\n",
        "        self.tensor_summary = TensorSummary()\n",
        "\n",
        "\n",
        "    def construct(self, x):\n",
        "        # Use the defined operation to construct a forward network.\n",
        "        self.image_summary(\"image\", x)\n",
        "        x = self.conv1(x)\n",
        "        x = self.relu(x)\n",
        "        x = self.max_pool2d(x)\n",
        "        x = self.conv2(x)\n",
        "        x = self.relu(x)\n",
        "        x = self.max_pool2d(x)\n",
        "        x = self.flatten(x)\n",
        "        x = self.fc1(x)\n",
        "        x = self.relu(x)\n",
        "        x = self.fc2(x)\n",
        "        x = self.relu(x)\n",
        "        x = self.fc3(x)\n",
        "        self.tensor_summary(\"tensor\", x)\n",
        "        return x\n",
        "\n",
        "# Instantiate the network.\n",
        "net = LeNet5()\n"
      ]
    },
    {
      "cell_type": "code",
      "execution_count": 7,
      "metadata": {
        "id": "SdQn9M4dq22K"
      },
      "outputs": [],
      "source": [
        "# Define the loss function.\n",
        "net_loss = nn.SoftmaxCrossEntropyWithLogits(sparse=True, reduction='mean')\n",
        "\n",
        "# Define the optimizer.\n",
        "net_opt = nn.Momentum(net.trainable_params(), learning_rate=0.01, momentum=0.9)\n"
      ]
    },
    {
      "cell_type": "code",
      "execution_count": 8,
      "metadata": {
        "id": "8hfnrxCQrFVP"
      },
      "outputs": [],
      "source": [
        "from mindspore.train.callback import ModelCheckpoint, CheckpointConfig\n",
        "# Set model saving parameters.\n",
        "config_ck = CheckpointConfig(save_checkpoint_steps=1875, keep_checkpoint_max=10)\n",
        "# Use model saving parameters.\n",
        "ckpoint = ModelCheckpoint(prefix=\"checkpoint_lenet\", config=config_ck)\n"
      ]
    },
    {
      "cell_type": "code",
      "execution_count": 9,
      "metadata": {
        "id": "MUDT7iQ2rJSo"
      },
      "outputs": [],
      "source": [
        "# Import the library required for model training.\n",
        "from mindspore.nn import Accuracy\n",
        "from mindspore.train.callback import LossMonitor, SummaryCollector\n",
        "from mindspore import Model"
      ]
    },
    {
      "cell_type": "code",
      "execution_count": 10,
      "metadata": {
        "id": "C7kJ7iFvrw_m"
      },
      "outputs": [],
      "source": [
        "from mindspore.nn import Accuracy\n",
        "from mindspore.train.callback import LossMonitor, SummaryCollector\n",
        "from mindspore import Model\n",
        "\n",
        "def train_net(model, epoch_size, data_path, repeat_size, ckpoint_cb, sink_mode):\n",
        "    \"\"\"Define a training method.\"\"\"\n",
        "    # Load the training dataset.\n",
        "    ds_train = create_dataset(os.path.join(data_path, \"train\"), 32, repeat_size)\n",
        "    summary_collector = SummaryCollector(summary_dir='./summary_dir', collect_freq=1)\n",
        "    \n",
        "    model.train(epoch_size, ds_train, callbacks=[ckpoint_cb, LossMonitor(125), summary_collector], dataset_sink_mode=sink_mode)\n",
        "\n",
        "  \n",
        "def test_net(model, data_path):\n",
        "    \"\"\"Define a validation method.\"\"\"\n",
        "    ds_eval = create_dataset(os.path.join(data_path, \"test\"))\n",
        "    acc = model.eval(ds_eval, dataset_sink_mode=False)\n",
        "    print(\"{}\".format(acc))\n",
        "\n"
      ]
    },
    {
      "cell_type": "code",
      "execution_count": 11,
      "metadata": {
        "colab": {
          "base_uri": "https://localhost:8080/"
        },
        "id": "1TcLGaolrxzI",
        "outputId": "491ec780-7f13-4bf7-dc65-fed0da9fabd4"
      },
      "outputs": [
        {
          "name": "stdout",
          "output_type": "stream",
          "text": [
            "epoch: 1 step: 125, loss is 2.3288204669952393\n",
            "epoch: 1 step: 250, loss is 2.292667865753174\n",
            "epoch: 1 step: 375, loss is 2.297941207885742\n",
            "epoch: 1 step: 500, loss is 2.296842098236084\n",
            "epoch: 1 step: 625, loss is 2.2870774269104004\n",
            "epoch: 1 step: 750, loss is 2.2988457679748535\n",
            "epoch: 1 step: 875, loss is 0.6446309685707092\n",
            "epoch: 1 step: 1000, loss is 0.4307193458080292\n",
            "epoch: 1 step: 1125, loss is 0.16168168187141418\n",
            "epoch: 1 step: 1250, loss is 0.3032585680484772\n",
            "epoch: 1 step: 1375, loss is 0.3087906241416931\n",
            "epoch: 1 step: 1500, loss is 0.2814761698246002\n",
            "epoch: 1 step: 1625, loss is 0.24805574119091034\n",
            "epoch: 1 step: 1750, loss is 0.031556569039821625\n",
            "epoch: 1 step: 1875, loss is 0.24841950833797455\n",
            "{'Accuracy': 0.9633413461538461}\n"
          ]
        }
      ],
      "source": [
        "from mindspore.profiler import Profiler\n",
        "profiler = Profiler(output_path = './summary_dir/profiler_data')\n",
        "train_epoch = 1\n",
        "mnist_path = \"./datasets/MNIST_Data\"\n",
        "dataset_size = 1\n",
        "model = Model(net, net_loss, net_opt, metrics={\"Accuracy\": Accuracy()})\n",
        "train_net(model, train_epoch, mnist_path, dataset_size, ckpoint, False)\n",
        "profiler.analyse()\n",
        "test_net(model, mnist_path)\n"
      ]
    },
    {
      "cell_type": "code",
      "execution_count": 12,
      "metadata": {
        "colab": {
          "base_uri": "https://localhost:8080/"
        },
        "id": "kr0Szxq8sKlo",
        "outputId": "8abc91fb-14b7-44cb-dbec-79a90e5f541d"
      },
      "outputs": [
        {
          "data": {
            "text/plain": [
              "[]"
            ]
          },
          "execution_count": 12,
          "metadata": {},
          "output_type": "execute_result"
        }
      ],
      "source": [
        "from mindspore import load_checkpoint, load_param_into_net\n",
        "# Load the saved model for testing.\n",
        "param_dict = load_checkpoint(\"checkpoint_lenet-1_1875.ckpt\")\n",
        "# Load parameters to the network.\n",
        "load_param_into_net(net, param_dict)\n"
      ]
    },
    {
      "cell_type": "code",
      "execution_count": 13,
      "metadata": {
        "colab": {
          "base_uri": "https://localhost:8080/"
        },
        "id": "mMOHXpXTsM8U",
        "outputId": "96bd6fdd-e333-449d-ed84-f0cff5f815a8"
      },
      "outputs": [
        {
          "name": "stdout",
          "output_type": "stream",
          "text": [
            "Predicted: \"1\", Actual: \"1\"\n"
          ]
        }
      ],
      "source": [
        "import numpy as np\n",
        "from mindspore import Tensor\n",
        "\n",
        "# Define a test dataset. If batch_size is set to 1, an image is obtained.\n",
        "ds_test = create_dataset(os.path.join(mnist_path, \"test\"), batch_size=1).create_dict_iterator()\n",
        "data = next(ds_test)\n",
        "\n",
        "# `images` indicates the test image, and `labels` indicates the actual classification of the test image.\n",
        "images = data[\"image\"].asnumpy()\n",
        "labels = data[\"label\"].asnumpy()\n",
        "\n",
        "# Use the model.predict function to predict the classification of the image.\n",
        "output = model.predict(Tensor(data['image']))\n",
        "predicted = np.argmax(output.asnumpy(), axis=1)\n",
        "\n",
        "# Output the predicted classification and the actual classification.\n",
        "print(f'Predicted: \"{predicted[0]}\", Actual: \"{labels[0]}\"')\n"
      ]
    }
  ],
  "metadata": {
    "colab": {
      "collapsed_sections": [],
      "name": "MindSpore Lab 1.ipynb",
      "provenance": []
    },
    "kernelspec": {
      "display_name": "Python 3",
      "name": "python3"
    },
    "language_info": {
      "name": "python"
    }
  },
  "nbformat": 4,
  "nbformat_minor": 0
}
